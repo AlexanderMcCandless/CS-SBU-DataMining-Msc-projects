{
  "nbformat": 4,
  "nbformat_minor": 0,
  "metadata": {
    "colab": {
      "name": "Sample.ipynb",
      "provenance": [],
      "authorship_tag": "ABX9TyO3JNp8zoVq/WT3psoHaM8f",
      "include_colab_link": true
    },
    "kernelspec": {
      "name": "python3",
      "display_name": "Python 3"
    },
    "language_info": {
      "name": "python"
    }
  },
  "cells": [
    {
      "cell_type": "markdown",
      "metadata": {
        "id": "view-in-github",
        "colab_type": "text"
      },
      "source": [
        "<a href=\"https://colab.research.google.com/github/alisharifi2000/CS-SBU-DataMining-Msc-projects/blob/main/Sample/project1/Sample.ipynb\" target=\"_parent\"><img src=\"https://colab.research.google.com/assets/colab-badge.svg\" alt=\"Open In Colab\"/></a>"
      ]
    },
    {
      "cell_type": "code",
      "metadata": {
        "id": "KaufNiVTj5eT"
      },
      "source": [
        "# sample code"
      ],
      "execution_count": null,
      "outputs": []
    }
  ]
}