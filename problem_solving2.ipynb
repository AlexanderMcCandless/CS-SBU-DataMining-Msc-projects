{
  "nbformat": 4,
  "nbformat_minor": 0,
  "metadata": {
    "colab": {
      "name": "problem solving2.ipynb",
      "provenance": [],
      "collapsed_sections": [],
      "authorship_tag": "ABX9TyPp1q9BCDKyMGnK9oglJ2UZ",
      "include_colab_link": true
    },
    "kernelspec": {
      "display_name": "Python 3",
      "name": "python3"
    }
  },
  "cells": [
    {
      "cell_type": "markdown",
      "metadata": {
        "id": "view-in-github",
        "colab_type": "text"
      },
      "source": [
        "<a href=\"https://colab.research.google.com/github/zainabkhosravi/CS-SBU-DataMining-Msc-projects/blob/zainabkhosravi-99422067/problem_solving2.ipynb\" target=\"_parent\"><img src=\"https://colab.research.google.com/assets/colab-badge.svg\" alt=\"Open In Colab\"/></a>"
      ]
    },
    {
      "cell_type": "code",
      "metadata": {
        "colab": {
          "base_uri": "https://localhost:8080/"
        },
        "id": "L3adtPHXWRMY",
        "outputId": "c49ec64a-a76e-42e1-a024-c3c615408cfa"
      },
      "source": [
        "from google.colab import drive\n",
        "drive.mount('/content/drive')"
      ],
      "execution_count": null,
      "outputs": [
        {
          "output_type": "stream",
          "text": [
            "Mounted at /content/drive\n"
          ],
          "name": "stdout"
        }
      ]
    },
    {
      "cell_type": "code",
      "metadata": {
        "id": "Yq_8l9yvhAHw"
      },
      "source": [
        "from google.colab import drive \n",
        "import pandas as pd\n",
        "import numpy as np\n",
        "import matplotlib.pyplot as plt\n",
        "data = pd.read_csv('/content/gdrive/MyDrive/results.csv')"
      ],
      "execution_count": null,
      "outputs": []
    },
    {
      "cell_type": "code",
      "metadata": {
        "id": "f1n8fuZi7YI8"
      },
      "source": [
        "import pandas as pd\n",
        "import os\n",
        "for dirname, _, filenames in os.walk('/content/gdrive/MyDrive/results.csv'):\n",
        "    for filename in filenames:\n",
        "        print(os.path.join(dirname, filename))\n",
        "import matplotlib.pyplot as plt"
      ],
      "execution_count": null,
      "outputs": []
    },
    {
      "cell_type": "code",
      "metadata": {
        "id": "xVoeXMl_7uS5"
      },
      "source": [
        "df_football = pd.read_csv('/content/gdrive/MyDrive/results.csv')"
      ],
      "execution_count": null,
      "outputs": []
    },
    {
      "cell_type": "code",
      "metadata": {
        "colab": {
          "base_uri": "https://localhost:8080/",
          "height": 283
        },
        "id": "lJyqvb0L7-xy",
        "outputId": "690144e3-c39f-4ff8-abae-8d5d233c4843"
      },
      "source": [
        "df_football['date'] = pd.to_datetime(df_football['date'])\n",
        "df_football['year'] = df_football['date'].dt.year\n",
        "print(df_football['year'].nunique())\n",
        "_=df_football['year'].plot(kind='hist')"
      ],
      "execution_count": null,
      "outputs": [
        {
          "output_type": "stream",
          "text": [
            "149\n"
          ],
          "name": "stdout"
        },
        {
          "output_type": "display_data",
          "data": {
            "image/png": "[encoded data removed]",
            "text/plain": [
              "<Figure size 432x288 with 1 Axes>"
            ]
          },
          "metadata": {
            "tags": [],
            "needs_background": "light"
          }
        }
      ]
    },
    {
      "cell_type": "code",
      "metadata": {
        "colab": {
          "base_uri": "https://localhost:8080/",
          "height": 265
        },
        "id": "wTREP7I48O22",
        "outputId": "b1435c8e-6c8b-4983-b288-c6264a10147f"
      },
      "source": [
        "_=plt.scatter(df_football['home_score'], df_football['away_score'])"
      ],
      "execution_count": null,
      "outputs": [
        {
          "output_type": "display_data",
          "data": {
            "image/png": "[encoded data removed]",
            "text/plain": [
              "<Figure size 432x288 with 1 Axes>"
            ]
          },
          "metadata": {
            "tags": [],
            "needs_background": "light"
          }
        }
      ]
    },
    {
      "cell_type": "code",
      "metadata": {
        "colab": {
          "base_uri": "https://localhost:8080/"
        },
        "id": "qgD09uFBKSds",
        "outputId": "fa47534d-e8e7-4881-cf4b-c6b2a32b348e"
      },
      "source": [
        "df_football['home_team'].nunique()"
      ],
      "execution_count": null,
      "outputs": [
        {
          "output_type": "execute_result",
          "data": {
            "text/plain": [
              "308"
            ]
          },
          "metadata": {
            "tags": []
          },
          "execution_count": 95
        }
      ]
    },
    {
      "cell_type": "code",
      "metadata": {
        "colab": {
          "base_uri": "https://localhost:8080/"
        },
        "id": "Byqt2uspKQ8p",
        "outputId": "2b24e1d0-04c0-45eb-8d99-cf7666aee15c"
      },
      "source": [
        "df_football['home_team'].value_counts"
      ],
      "execution_count": null,
      "outputs": [
        {
          "output_type": "execute_result",
          "data": {
            "text/plain": [
              "<bound method IndexOpsMixin.value_counts of 0             Scotland\n",
              "1              England\n",
              "2             Scotland\n",
              "3              England\n",
              "4             Scotland\n",
              "             ...      \n",
              "41871           Greece\n",
              "41872          Albania\n",
              "41873       Kazakhstan\n",
              "41874            Qatar\n",
              "41875    United States\n",
              "Name: home_team, Length: 41876, dtype: object>"
            ]
          },
          "metadata": {
            "tags": []
          },
          "execution_count": 96
        }
      ]
    },
    {
      "cell_type": "code",
      "metadata": {
        "colab": {
          "base_uri": "https://localhost:8080/",
          "height": 442
        },
        "id": "al1YdGzw7ZGn",
        "outputId": "405d6958-7fc3-4bbd-ff82-4139c8790061"
      },
      "source": [
        "df_football['home_team'].value_counts().plot(kind='bar')"
      ],
      "execution_count": null,
      "outputs": [
        {
          "output_type": "execute_result",
          "data": {
            "text/plain": [
              "<matplotlib.axes._subplots.AxesSubplot at 0x7f5432746c90>"
            ]
          },
          "metadata": {
            "tags": []
          },
          "execution_count": 97
        },
        {
          "output_type": "display_data",
          "data": {
            "image/png": "[encoded data removed]",
            "text/plain": [
              "<Figure size 432x288 with 1 Axes>"
            ]
          },
          "metadata": {
            "tags": [],
            "needs_background": "light"
          }
        }
      ]
    },
    {
      "cell_type": "code",
      "metadata": {
        "id": "csd201DW-Fwx"
      },
      "source": [
        "temp=df_football[df_football['tournament']=='frinedly']"
      ],
      "execution_count": null,
      "outputs": []
    },
    {
      "cell_type": "code",
      "metadata": {
        "id": "vzZ1Obbl-8Cz"
      },
      "source": [
        "temp['home_win']=(temp['home_score']>temp['away_score'])"
      ],
      "execution_count": null,
      "outputs": []
    },
    {
      "cell_type": "code",
      "metadata": {
        "id": "kf8VnMGw_hIw"
      },
      "source": [
        "t=temp[temp['home_win']]==True"
      ],
      "execution_count": null,
      "outputs": []
    },
    {
      "cell_type": "code",
      "metadata": {
        "colab": {
          "base_uri": "https://localhost:8080/"
        },
        "id": "aEV7aQvfG3eu",
        "outputId": "81221569-8498-43c2-fb87-c5be25d9430b"
      },
      "source": [
        "df_football['home_team'].value_counts"
      ],
      "execution_count": null,
      "outputs": [
        {
          "output_type": "execute_result",
          "data": {
            "text/plain": [
              "<bound method IndexOpsMixin.value_counts of 0             Scotland\n",
              "1              England\n",
              "2             Scotland\n",
              "3              England\n",
              "4             Scotland\n",
              "             ...      \n",
              "41871           Greece\n",
              "41872          Albania\n",
              "41873       Kazakhstan\n",
              "41874            Qatar\n",
              "41875    United States\n",
              "Name: home_team, Length: 41876, dtype: object>"
            ]
          },
          "metadata": {
            "tags": []
          },
          "execution_count": 101
        }
      ]
    },
    {
      "cell_type": "code",
      "metadata": {
        "colab": {
          "base_uri": "https://localhost:8080/"
        },
        "id": "fdJbTPvoHz3-",
        "outputId": "ceb5d22b-0e96-44fd-e2be-ae95c40d4e61"
      },
      "source": [
        "temp.home_team.value_counts(ascending=False)"
      ],
      "execution_count": null,
      "outputs": [
        {
          "output_type": "execute_result",
          "data": {
            "text/plain": [
              "Series([], Name: home_team, dtype: int64)"
            ]
          },
          "metadata": {
            "tags": []
          },
          "execution_count": 102
        }
      ]
    },
    {
      "cell_type": "code",
      "metadata": {
        "colab": {
          "base_uri": "https://localhost:8080/",
          "height": 1000
        },
        "id": "It7KF6ebHzsW",
        "outputId": "c382b84d-9b95-4e9a-f751-f723c7314741"
      },
      "source": [
        "df_football[(df_football['home_team']=='Scotland')&(df_football['away_team']=='England')]"
      ],
      "execution_count": null,
      "outputs": [
        {
          "output_type": "execute_result",
          "data": {
            "text/html": [
              "<div>\n",
              "<style scoped>\n",
              "    .dataframe tbody tr th:only-of-type {\n",
              "        vertical-align: middle;\n",
              "    }\n",
              "\n",
              "    .dataframe tbody tr th {\n",
              "        vertical-align: top;\n",
              "    }\n",
              "\n",
              "    .dataframe thead th {\n",
              "        text-align: right;\n",
              "    }\n",
              "</style>\n",
              "<table border=\"1\" class=\"dataframe\">\n",
              "  <thead>\n",
              "    <tr style=\"text-align: right;\">\n",
              "      <th></th>\n",
              "      <th>date</th>\n",
              "      <th>home_team</th>\n",
              "      <th>away_team</th>\n",
              "      <th>home_score</th>\n",
              "      <th>away_score</th>\n",
              "      <th>tournament</th>\n",
              "      <th>city</th>\n",
              "      <th>country</th>\n",
              "      <th>neutral</th>\n",
              "      <th>year</th>\n",
              "    </tr>\n",
              "  </thead>\n",
              "  <tbody>\n",
              "    <tr>\n",
              "      <th>0</th>\n",
              "      <td>1872-11-30</td>\n",
              "      <td>Scotland</td>\n",
              "      <td>England</td>\n",
              "      <td>0</td>\n",
              "      <td>0</td>\n",
              "      <td>Friendly</td>\n",
              "      <td>Glasgow</td>\n",
              "      <td>Scotland</td>\n",
              "      <td>False</td>\n",
              "      <td>1872</td>\n",
              "    </tr>\n",
              "    <tr>\n",
              "      <th>2</th>\n",
              "      <td>1874-03-07</td>\n",
              "      <td>Scotland</td>\n",
              "      <td>England</td>\n",
              "      <td>2</td>\n",
              "      <td>1</td>\n",
              "      <td>Friendly</td>\n",
              "      <td>Glasgow</td>\n",
              "      <td>Scotland</td>\n",
              "      <td>False</td>\n",
              "      <td>1874</td>\n",
              "    </tr>\n",
              "    <tr>\n",
              "      <th>4</th>\n",
              "      <td>1876-03-04</td>\n",
              "      <td>Scotland</td>\n",
              "      <td>England</td>\n",
              "      <td>3</td>\n",
              "      <td>0</td>\n",
              "      <td>Friendly</td>\n",
              "      <td>Glasgow</td>\n",
              "      <td>Scotland</td>\n",
              "      <td>False</td>\n",
              "      <td>1876</td>\n",
              "    </tr>\n",
              "    <tr>\n",
              "      <th>8</th>\n",
              "      <td>1878-03-02</td>\n",
              "      <td>Scotland</td>\n",
              "      <td>England</td>\n",
              "      <td>7</td>\n",
              "      <td>2</td>\n",
              "      <td>Friendly</td>\n",
              "      <td>Glasgow</td>\n",
              "      <td>Scotland</td>\n",
              "      <td>False</td>\n",
              "      <td>1878</td>\n",
              "    </tr>\n",
              "    <tr>\n",
              "      <th>13</th>\n",
              "      <td>1880-03-13</td>\n",
              "      <td>Scotland</td>\n",
              "      <td>England</td>\n",
              "      <td>5</td>\n",
              "      <td>4</td>\n",
              "      <td>Friendly</td>\n",
              "      <td>Glasgow</td>\n",
              "      <td>Scotland</td>\n",
              "      <td>False</td>\n",
              "      <td>1880</td>\n",
              "    </tr>\n",
              "    <tr>\n",
              "      <th>21</th>\n",
              "      <td>1882-03-11</td>\n",
              "      <td>Scotland</td>\n",
              "      <td>England</td>\n",
              "      <td>5</td>\n",
              "      <td>1</td>\n",
              "      <td>Friendly</td>\n",
              "      <td>Glasgow</td>\n",
              "      <td>Scotland</td>\n",
              "      <td>False</td>\n",
              "      <td>1882</td>\n",
              "    </tr>\n",
              "    <tr>\n",
              "      <th>32</th>\n",
              "      <td>1884-03-15</td>\n",
              "      <td>Scotland</td>\n",
              "      <td>England</td>\n",
              "      <td>1</td>\n",
              "      <td>0</td>\n",
              "      <td>British Championship</td>\n",
              "      <td>Glasgow</td>\n",
              "      <td>Scotland</td>\n",
              "      <td>False</td>\n",
              "      <td>1884</td>\n",
              "    </tr>\n",
              "    <tr>\n",
              "      <th>45</th>\n",
              "      <td>1886-03-27</td>\n",
              "      <td>Scotland</td>\n",
              "      <td>England</td>\n",
              "      <td>1</td>\n",
              "      <td>1</td>\n",
              "      <td>British Championship</td>\n",
              "      <td>Glasgow</td>\n",
              "      <td>Scotland</td>\n",
              "      <td>False</td>\n",
              "      <td>1886</td>\n",
              "    </tr>\n",
              "    <tr>\n",
              "      <th>58</th>\n",
              "      <td>1888-03-17</td>\n",
              "      <td>Scotland</td>\n",
              "      <td>England</td>\n",
              "      <td>0</td>\n",
              "      <td>5</td>\n",
              "      <td>British Championship</td>\n",
              "      <td>Glasgow</td>\n",
              "      <td>Scotland</td>\n",
              "      <td>False</td>\n",
              "      <td>1888</td>\n",
              "    </tr>\n",
              "    <tr>\n",
              "      <th>73</th>\n",
              "      <td>1890-04-05</td>\n",
              "      <td>Scotland</td>\n",
              "      <td>England</td>\n",
              "      <td>1</td>\n",
              "      <td>1</td>\n",
              "      <td>British Championship</td>\n",
              "      <td>Glasgow</td>\n",
              "      <td>Scotland</td>\n",
              "      <td>False</td>\n",
              "      <td>1890</td>\n",
              "    </tr>\n",
              "    <tr>\n",
              "      <th>85</th>\n",
              "      <td>1892-04-02</td>\n",
              "      <td>Scotland</td>\n",
              "      <td>England</td>\n",
              "      <td>1</td>\n",
              "      <td>4</td>\n",
              "      <td>British Championship</td>\n",
              "      <td>Glasgow</td>\n",
              "      <td>Scotland</td>\n",
              "      <td>False</td>\n",
              "      <td>1892</td>\n",
              "    </tr>\n",
              "    <tr>\n",
              "      <th>96</th>\n",
              "      <td>1894-04-07</td>\n",
              "      <td>Scotland</td>\n",
              "      <td>England</td>\n",
              "      <td>2</td>\n",
              "      <td>2</td>\n",
              "      <td>British Championship</td>\n",
              "      <td>Glasgow</td>\n",
              "      <td>Scotland</td>\n",
              "      <td>False</td>\n",
              "      <td>1894</td>\n",
              "    </tr>\n",
              "    <tr>\n",
              "      <th>108</th>\n",
              "      <td>1896-04-04</td>\n",
              "      <td>Scotland</td>\n",
              "      <td>England</td>\n",
              "      <td>2</td>\n",
              "      <td>1</td>\n",
              "      <td>British Championship</td>\n",
              "      <td>Glasgow</td>\n",
              "      <td>Scotland</td>\n",
              "      <td>False</td>\n",
              "      <td>1896</td>\n",
              "    </tr>\n",
              "    <tr>\n",
              "      <th>120</th>\n",
              "      <td>1898-04-02</td>\n",
              "      <td>Scotland</td>\n",
              "      <td>England</td>\n",
              "      <td>1</td>\n",
              "      <td>3</td>\n",
              "      <td>British Championship</td>\n",
              "      <td>Glasgow</td>\n",
              "      <td>Scotland</td>\n",
              "      <td>False</td>\n",
              "      <td>1898</td>\n",
              "    </tr>\n",
              "    <tr>\n",
              "      <th>132</th>\n",
              "      <td>1900-04-07</td>\n",
              "      <td>Scotland</td>\n",
              "      <td>England</td>\n",
              "      <td>4</td>\n",
              "      <td>1</td>\n",
              "      <td>British Championship</td>\n",
              "      <td>Glasgow</td>\n",
              "      <td>Scotland</td>\n",
              "      <td>False</td>\n",
              "      <td>1900</td>\n",
              "    </tr>\n",
              "    <tr>\n",
              "      <th>162</th>\n",
              "      <td>1904-04-09</td>\n",
              "      <td>Scotland</td>\n",
              "      <td>England</td>\n",
              "      <td>0</td>\n",
              "      <td>1</td>\n",
              "      <td>British Championship</td>\n",
              "      <td>Glasgow</td>\n",
              "      <td>Scotland</td>\n",
              "      <td>False</td>\n",
              "      <td>1904</td>\n",
              "    </tr>\n",
              "    <tr>\n",
              "      <th>184</th>\n",
              "      <td>1906-04-07</td>\n",
              "      <td>Scotland</td>\n",
              "      <td>England</td>\n",
              "      <td>2</td>\n",
              "      <td>1</td>\n",
              "      <td>British Championship</td>\n",
              "      <td>Glasgow</td>\n",
              "      <td>Scotland</td>\n",
              "      <td>False</td>\n",
              "      <td>1906</td>\n",
              "    </tr>\n",
              "    <tr>\n",
              "      <th>211</th>\n",
              "      <td>1908-04-04</td>\n",
              "      <td>Scotland</td>\n",
              "      <td>England</td>\n",
              "      <td>1</td>\n",
              "      <td>1</td>\n",
              "      <td>British Championship</td>\n",
              "      <td>Glasgow</td>\n",
              "      <td>Scotland</td>\n",
              "      <td>False</td>\n",
              "      <td>1908</td>\n",
              "    </tr>\n",
              "    <tr>\n",
              "      <th>256</th>\n",
              "      <td>1910-04-02</td>\n",
              "      <td>Scotland</td>\n",
              "      <td>England</td>\n",
              "      <td>2</td>\n",
              "      <td>0</td>\n",
              "      <td>British Championship</td>\n",
              "      <td>Glasgow</td>\n",
              "      <td>Scotland</td>\n",
              "      <td>False</td>\n",
              "      <td>1910</td>\n",
              "    </tr>\n",
              "    <tr>\n",
              "      <th>320</th>\n",
              "      <td>1912-03-23</td>\n",
              "      <td>Scotland</td>\n",
              "      <td>England</td>\n",
              "      <td>1</td>\n",
              "      <td>1</td>\n",
              "      <td>British Championship</td>\n",
              "      <td>Glasgow</td>\n",
              "      <td>Scotland</td>\n",
              "      <td>False</td>\n",
              "      <td>1912</td>\n",
              "    </tr>\n",
              "    <tr>\n",
              "      <th>398</th>\n",
              "      <td>1914-04-14</td>\n",
              "      <td>Scotland</td>\n",
              "      <td>England</td>\n",
              "      <td>3</td>\n",
              "      <td>1</td>\n",
              "      <td>British Championship</td>\n",
              "      <td>Glasgow</td>\n",
              "      <td>Scotland</td>\n",
              "      <td>False</td>\n",
              "      <td>1914</td>\n",
              "    </tr>\n",
              "    <tr>\n",
              "      <th>580</th>\n",
              "      <td>1921-04-09</td>\n",
              "      <td>Scotland</td>\n",
              "      <td>England</td>\n",
              "      <td>3</td>\n",
              "      <td>0</td>\n",
              "      <td>British Championship</td>\n",
              "      <td>Glasgow</td>\n",
              "      <td>Scotland</td>\n",
              "      <td>False</td>\n",
              "      <td>1921</td>\n",
              "    </tr>\n",
              "    <tr>\n",
              "      <th>709</th>\n",
              "      <td>1923-04-14</td>\n",
              "      <td>Scotland</td>\n",
              "      <td>England</td>\n",
              "      <td>2</td>\n",
              "      <td>2</td>\n",
              "      <td>British Championship</td>\n",
              "      <td>Glasgow</td>\n",
              "      <td>Scotland</td>\n",
              "      <td>False</td>\n",
              "      <td>1923</td>\n",
              "    </tr>\n",
              "    <tr>\n",
              "      <th>876</th>\n",
              "      <td>1925-04-04</td>\n",
              "      <td>Scotland</td>\n",
              "      <td>England</td>\n",
              "      <td>2</td>\n",
              "      <td>0</td>\n",
              "      <td>British Championship</td>\n",
              "      <td>Glasgow</td>\n",
              "      <td>Scotland</td>\n",
              "      <td>False</td>\n",
              "      <td>1925</td>\n",
              "    </tr>\n",
              "    <tr>\n",
              "      <th>1037</th>\n",
              "      <td>1927-04-02</td>\n",
              "      <td>Scotland</td>\n",
              "      <td>England</td>\n",
              "      <td>1</td>\n",
              "      <td>2</td>\n",
              "      <td>British Championship</td>\n",
              "      <td>Glasgow</td>\n",
              "      <td>Scotland</td>\n",
              "      <td>False</td>\n",
              "      <td>1927</td>\n",
              "    </tr>\n",
              "    <tr>\n",
              "      <th>1194</th>\n",
              "      <td>1929-04-13</td>\n",
              "      <td>Scotland</td>\n",
              "      <td>England</td>\n",
              "      <td>1</td>\n",
              "      <td>0</td>\n",
              "      <td>British Championship</td>\n",
              "      <td>Glasgow</td>\n",
              "      <td>Scotland</td>\n",
              "      <td>False</td>\n",
              "      <td>1929</td>\n",
              "    </tr>\n",
              "    <tr>\n",
              "      <th>1381</th>\n",
              "      <td>1931-03-28</td>\n",
              "      <td>Scotland</td>\n",
              "      <td>England</td>\n",
              "      <td>2</td>\n",
              "      <td>0</td>\n",
              "      <td>British Championship</td>\n",
              "      <td>Glasgow</td>\n",
              "      <td>Scotland</td>\n",
              "      <td>False</td>\n",
              "      <td>1931</td>\n",
              "    </tr>\n",
              "    <tr>\n",
              "      <th>1563</th>\n",
              "      <td>1933-04-01</td>\n",
              "      <td>Scotland</td>\n",
              "      <td>England</td>\n",
              "      <td>2</td>\n",
              "      <td>1</td>\n",
              "      <td>British Championship</td>\n",
              "      <td>Glasgow</td>\n",
              "      <td>Scotland</td>\n",
              "      <td>False</td>\n",
              "      <td>1933</td>\n",
              "    </tr>\n",
              "    <tr>\n",
              "      <th>1771</th>\n",
              "      <td>1935-04-06</td>\n",
              "      <td>Scotland</td>\n",
              "      <td>England</td>\n",
              "      <td>2</td>\n",
              "      <td>0</td>\n",
              "      <td>British Championship</td>\n",
              "      <td>Glasgow</td>\n",
              "      <td>Scotland</td>\n",
              "      <td>False</td>\n",
              "      <td>1935</td>\n",
              "    </tr>\n",
              "    <tr>\n",
              "      <th>1966</th>\n",
              "      <td>1937-04-17</td>\n",
              "      <td>Scotland</td>\n",
              "      <td>England</td>\n",
              "      <td>3</td>\n",
              "      <td>1</td>\n",
              "      <td>British Championship</td>\n",
              "      <td>Glasgow</td>\n",
              "      <td>Scotland</td>\n",
              "      <td>False</td>\n",
              "      <td>1937</td>\n",
              "    </tr>\n",
              "    <tr>\n",
              "      <th>2216</th>\n",
              "      <td>1939-04-15</td>\n",
              "      <td>Scotland</td>\n",
              "      <td>England</td>\n",
              "      <td>1</td>\n",
              "      <td>2</td>\n",
              "      <td>British Championship</td>\n",
              "      <td>Glasgow</td>\n",
              "      <td>Scotland</td>\n",
              "      <td>False</td>\n",
              "      <td>1939</td>\n",
              "    </tr>\n",
              "    <tr>\n",
              "      <th>2601</th>\n",
              "      <td>1946-04-13</td>\n",
              "      <td>Scotland</td>\n",
              "      <td>England</td>\n",
              "      <td>1</td>\n",
              "      <td>0</td>\n",
              "      <td>Friendly</td>\n",
              "      <td>Glasgow</td>\n",
              "      <td>Scotland</td>\n",
              "      <td>False</td>\n",
              "      <td>1946</td>\n",
              "    </tr>\n",
              "    <tr>\n",
              "      <th>2824</th>\n",
              "      <td>1948-04-10</td>\n",
              "      <td>Scotland</td>\n",
              "      <td>England</td>\n",
              "      <td>0</td>\n",
              "      <td>2</td>\n",
              "      <td>British Championship</td>\n",
              "      <td>Glasgow</td>\n",
              "      <td>Scotland</td>\n",
              "      <td>False</td>\n",
              "      <td>1948</td>\n",
              "    </tr>\n",
              "    <tr>\n",
              "      <th>3091</th>\n",
              "      <td>1950-04-15</td>\n",
              "      <td>Scotland</td>\n",
              "      <td>England</td>\n",
              "      <td>0</td>\n",
              "      <td>1</td>\n",
              "      <td>FIFA World Cup qualification</td>\n",
              "      <td>Glasgow</td>\n",
              "      <td>Scotland</td>\n",
              "      <td>False</td>\n",
              "      <td>1950</td>\n",
              "    </tr>\n",
              "    <tr>\n",
              "      <th>3322</th>\n",
              "      <td>1952-04-05</td>\n",
              "      <td>Scotland</td>\n",
              "      <td>England</td>\n",
              "      <td>1</td>\n",
              "      <td>2</td>\n",
              "      <td>British Championship</td>\n",
              "      <td>Glasgow</td>\n",
              "      <td>Scotland</td>\n",
              "      <td>False</td>\n",
              "      <td>1952</td>\n",
              "    </tr>\n",
              "    <tr>\n",
              "      <th>3615</th>\n",
              "      <td>1954-04-03</td>\n",
              "      <td>Scotland</td>\n",
              "      <td>England</td>\n",
              "      <td>2</td>\n",
              "      <td>4</td>\n",
              "      <td>FIFA World Cup qualification</td>\n",
              "      <td>Glasgow</td>\n",
              "      <td>Scotland</td>\n",
              "      <td>False</td>\n",
              "      <td>1954</td>\n",
              "    </tr>\n",
              "    <tr>\n",
              "      <th>3943</th>\n",
              "      <td>1956-04-14</td>\n",
              "      <td>Scotland</td>\n",
              "      <td>England</td>\n",
              "      <td>1</td>\n",
              "      <td>1</td>\n",
              "      <td>British Championship</td>\n",
              "      <td>Glasgow</td>\n",
              "      <td>Scotland</td>\n",
              "      <td>False</td>\n",
              "      <td>1956</td>\n",
              "    </tr>\n",
              "    <tr>\n",
              "      <th>4326</th>\n",
              "      <td>1958-04-19</td>\n",
              "      <td>Scotland</td>\n",
              "      <td>England</td>\n",
              "      <td>0</td>\n",
              "      <td>4</td>\n",
              "      <td>British Championship</td>\n",
              "      <td>Glasgow</td>\n",
              "      <td>Scotland</td>\n",
              "      <td>False</td>\n",
              "      <td>1958</td>\n",
              "    </tr>\n",
              "    <tr>\n",
              "      <th>4684</th>\n",
              "      <td>1960-04-09</td>\n",
              "      <td>Scotland</td>\n",
              "      <td>England</td>\n",
              "      <td>1</td>\n",
              "      <td>1</td>\n",
              "      <td>British Championship</td>\n",
              "      <td>Glasgow</td>\n",
              "      <td>Scotland</td>\n",
              "      <td>False</td>\n",
              "      <td>1960</td>\n",
              "    </tr>\n",
              "    <tr>\n",
              "      <th>5095</th>\n",
              "      <td>1962-04-14</td>\n",
              "      <td>Scotland</td>\n",
              "      <td>England</td>\n",
              "      <td>2</td>\n",
              "      <td>0</td>\n",
              "      <td>British Championship</td>\n",
              "      <td>Glasgow</td>\n",
              "      <td>Scotland</td>\n",
              "      <td>False</td>\n",
              "      <td>1962</td>\n",
              "    </tr>\n",
              "    <tr>\n",
              "      <th>5594</th>\n",
              "      <td>1964-04-11</td>\n",
              "      <td>Scotland</td>\n",
              "      <td>England</td>\n",
              "      <td>1</td>\n",
              "      <td>0</td>\n",
              "      <td>British Championship</td>\n",
              "      <td>Glasgow</td>\n",
              "      <td>Scotland</td>\n",
              "      <td>False</td>\n",
              "      <td>1964</td>\n",
              "    </tr>\n",
              "    <tr>\n",
              "      <th>6095</th>\n",
              "      <td>1966-04-02</td>\n",
              "      <td>Scotland</td>\n",
              "      <td>England</td>\n",
              "      <td>3</td>\n",
              "      <td>4</td>\n",
              "      <td>British Championship</td>\n",
              "      <td>Glasgow</td>\n",
              "      <td>Scotland</td>\n",
              "      <td>False</td>\n",
              "      <td>1966</td>\n",
              "    </tr>\n",
              "    <tr>\n",
              "      <th>6735</th>\n",
              "      <td>1968-02-24</td>\n",
              "      <td>Scotland</td>\n",
              "      <td>England</td>\n",
              "      <td>1</td>\n",
              "      <td>1</td>\n",
              "      <td>UEFA Euro qualification</td>\n",
              "      <td>Glasgow</td>\n",
              "      <td>Scotland</td>\n",
              "      <td>False</td>\n",
              "      <td>1968</td>\n",
              "    </tr>\n",
              "    <tr>\n",
              "      <th>7431</th>\n",
              "      <td>1970-04-25</td>\n",
              "      <td>Scotland</td>\n",
              "      <td>England</td>\n",
              "      <td>0</td>\n",
              "      <td>0</td>\n",
              "      <td>British Championship</td>\n",
              "      <td>Glasgow</td>\n",
              "      <td>Scotland</td>\n",
              "      <td>False</td>\n",
              "      <td>1970</td>\n",
              "    </tr>\n",
              "    <tr>\n",
              "      <th>8180</th>\n",
              "      <td>1972-05-27</td>\n",
              "      <td>Scotland</td>\n",
              "      <td>England</td>\n",
              "      <td>0</td>\n",
              "      <td>1</td>\n",
              "      <td>British Championship</td>\n",
              "      <td>Glasgow</td>\n",
              "      <td>Scotland</td>\n",
              "      <td>False</td>\n",
              "      <td>1972</td>\n",
              "    </tr>\n",
              "    <tr>\n",
              "      <th>8480</th>\n",
              "      <td>1973-02-14</td>\n",
              "      <td>Scotland</td>\n",
              "      <td>England</td>\n",
              "      <td>0</td>\n",
              "      <td>5</td>\n",
              "      <td>Friendly</td>\n",
              "      <td>Glasgow</td>\n",
              "      <td>Scotland</td>\n",
              "      <td>False</td>\n",
              "      <td>1973</td>\n",
              "    </tr>\n",
              "    <tr>\n",
              "      <th>8996</th>\n",
              "      <td>1974-05-18</td>\n",
              "      <td>Scotland</td>\n",
              "      <td>England</td>\n",
              "      <td>2</td>\n",
              "      <td>0</td>\n",
              "      <td>British Championship</td>\n",
              "      <td>Glasgow</td>\n",
              "      <td>Scotland</td>\n",
              "      <td>False</td>\n",
              "      <td>1974</td>\n",
              "    </tr>\n",
              "    <tr>\n",
              "      <th>9722</th>\n",
              "      <td>1976-05-15</td>\n",
              "      <td>Scotland</td>\n",
              "      <td>England</td>\n",
              "      <td>2</td>\n",
              "      <td>1</td>\n",
              "      <td>British Championship</td>\n",
              "      <td>Glasgow</td>\n",
              "      <td>Scotland</td>\n",
              "      <td>False</td>\n",
              "      <td>1976</td>\n",
              "    </tr>\n",
              "    <tr>\n",
              "      <th>10500</th>\n",
              "      <td>1978-05-20</td>\n",
              "      <td>Scotland</td>\n",
              "      <td>England</td>\n",
              "      <td>0</td>\n",
              "      <td>1</td>\n",
              "      <td>British Championship</td>\n",
              "      <td>Glasgow</td>\n",
              "      <td>Scotland</td>\n",
              "      <td>False</td>\n",
              "      <td>1978</td>\n",
              "    </tr>\n",
              "    <tr>\n",
              "      <th>11265</th>\n",
              "      <td>1980-05-24</td>\n",
              "      <td>Scotland</td>\n",
              "      <td>England</td>\n",
              "      <td>0</td>\n",
              "      <td>2</td>\n",
              "      <td>British Championship</td>\n",
              "      <td>Glasgow</td>\n",
              "      <td>Scotland</td>\n",
              "      <td>False</td>\n",
              "      <td>1980</td>\n",
              "    </tr>\n",
              "    <tr>\n",
              "      <th>12259</th>\n",
              "      <td>1982-05-29</td>\n",
              "      <td>Scotland</td>\n",
              "      <td>England</td>\n",
              "      <td>0</td>\n",
              "      <td>1</td>\n",
              "      <td>British Championship</td>\n",
              "      <td>Glasgow</td>\n",
              "      <td>Scotland</td>\n",
              "      <td>False</td>\n",
              "      <td>1982</td>\n",
              "    </tr>\n",
              "    <tr>\n",
              "      <th>13055</th>\n",
              "      <td>1984-05-26</td>\n",
              "      <td>Scotland</td>\n",
              "      <td>England</td>\n",
              "      <td>1</td>\n",
              "      <td>1</td>\n",
              "      <td>British Championship</td>\n",
              "      <td>Glasgow</td>\n",
              "      <td>Scotland</td>\n",
              "      <td>False</td>\n",
              "      <td>1984</td>\n",
              "    </tr>\n",
              "    <tr>\n",
              "      <th>13741</th>\n",
              "      <td>1985-05-25</td>\n",
              "      <td>Scotland</td>\n",
              "      <td>England</td>\n",
              "      <td>1</td>\n",
              "      <td>0</td>\n",
              "      <td>Rous Cup</td>\n",
              "      <td>Glasgow</td>\n",
              "      <td>Scotland</td>\n",
              "      <td>False</td>\n",
              "      <td>1985</td>\n",
              "    </tr>\n",
              "    <tr>\n",
              "      <th>14537</th>\n",
              "      <td>1987-05-23</td>\n",
              "      <td>Scotland</td>\n",
              "      <td>England</td>\n",
              "      <td>0</td>\n",
              "      <td>0</td>\n",
              "      <td>Rous Cup</td>\n",
              "      <td>Glasgow</td>\n",
              "      <td>Scotland</td>\n",
              "      <td>False</td>\n",
              "      <td>1987</td>\n",
              "    </tr>\n",
              "    <tr>\n",
              "      <th>15550</th>\n",
              "      <td>1989-05-27</td>\n",
              "      <td>Scotland</td>\n",
              "      <td>England</td>\n",
              "      <td>0</td>\n",
              "      <td>2</td>\n",
              "      <td>Rous Cup</td>\n",
              "      <td>Glasgow</td>\n",
              "      <td>Scotland</td>\n",
              "      <td>False</td>\n",
              "      <td>1989</td>\n",
              "    </tr>\n",
              "    <tr>\n",
              "      <th>22389</th>\n",
              "      <td>1999-11-13</td>\n",
              "      <td>Scotland</td>\n",
              "      <td>England</td>\n",
              "      <td>0</td>\n",
              "      <td>2</td>\n",
              "      <td>UEFA Euro qualification</td>\n",
              "      <td>Glasgow</td>\n",
              "      <td>Scotland</td>\n",
              "      <td>False</td>\n",
              "      <td>1999</td>\n",
              "    </tr>\n",
              "    <tr>\n",
              "      <th>36584</th>\n",
              "      <td>2014-11-18</td>\n",
              "      <td>Scotland</td>\n",
              "      <td>England</td>\n",
              "      <td>1</td>\n",
              "      <td>3</td>\n",
              "      <td>Friendly</td>\n",
              "      <td>Glasgow</td>\n",
              "      <td>Scotland</td>\n",
              "      <td>False</td>\n",
              "      <td>2014</td>\n",
              "    </tr>\n",
              "    <tr>\n",
              "      <th>38894</th>\n",
              "      <td>2017-06-10</td>\n",
              "      <td>Scotland</td>\n",
              "      <td>England</td>\n",
              "      <td>2</td>\n",
              "      <td>2</td>\n",
              "      <td>FIFA World Cup qualification</td>\n",
              "      <td>Glasgow</td>\n",
              "      <td>Scotland</td>\n",
              "      <td>False</td>\n",
              "      <td>2017</td>\n",
              "    </tr>\n",
              "  </tbody>\n",
              "</table>\n",
              "</div>"
            ],
            "text/plain": [
              "            date home_team away_team  ...   country  neutral  year\n",
              "0     1872-11-30  Scotland   England  ...  Scotland    False  1872\n",
              "2     1874-03-07  Scotland   England  ...  Scotland    False  1874\n",
              "4     1876-03-04  Scotland   England  ...  Scotland    False  1876\n",
              "8     1878-03-02  Scotland   England  ...  Scotland    False  1878\n",
              "13    1880-03-13  Scotland   England  ...  Scotland    False  1880\n",
              "21    1882-03-11  Scotland   England  ...  Scotland    False  1882\n",
              "32    1884-03-15  Scotland   England  ...  Scotland    False  1884\n",
              "45    1886-03-27  Scotland   England  ...  Scotland    False  1886\n",
              "58    1888-03-17  Scotland   England  ...  Scotland    False  1888\n",
              "73    1890-04-05  Scotland   England  ...  Scotland    False  1890\n",
              "85    1892-04-02  Scotland   England  ...  Scotland    False  1892\n",
              "96    1894-04-07  Scotland   England  ...  Scotland    False  1894\n",
              "108   1896-04-04  Scotland   England  ...  Scotland    False  1896\n",
              "120   1898-04-02  Scotland   England  ...  Scotland    False  1898\n",
              "132   1900-04-07  Scotland   England  ...  Scotland    False  1900\n",
              "162   1904-04-09  Scotland   England  ...  Scotland    False  1904\n",
              "184   1906-04-07  Scotland   England  ...  Scotland    False  1906\n",
              "211   1908-04-04  Scotland   England  ...  Scotland    False  1908\n",
              "256   1910-04-02  Scotland   England  ...  Scotland    False  1910\n",
              "320   1912-03-23  Scotland   England  ...  Scotland    False  1912\n",
              "398   1914-04-14  Scotland   England  ...  Scotland    False  1914\n",
              "580   1921-04-09  Scotland   England  ...  Scotland    False  1921\n",
              "709   1923-04-14  Scotland   England  ...  Scotland    False  1923\n",
              "876   1925-04-04  Scotland   England  ...  Scotland    False  1925\n",
              "1037  1927-04-02  Scotland   England  ...  Scotland    False  1927\n",
              "1194  1929-04-13  Scotland   England  ...  Scotland    False  1929\n",
              "1381  1931-03-28  Scotland   England  ...  Scotland    False  1931\n",
              "1563  1933-04-01  Scotland   England  ...  Scotland    False  1933\n",
              "1771  1935-04-06  Scotland   England  ...  Scotland    False  1935\n",
              "1966  1937-04-17  Scotland   England  ...  Scotland    False  1937\n",
              "2216  1939-04-15  Scotland   England  ...  Scotland    False  1939\n",
              "2601  1946-04-13  Scotland   England  ...  Scotland    False  1946\n",
              "2824  1948-04-10  Scotland   England  ...  Scotland    False  1948\n",
              "3091  1950-04-15  Scotland   England  ...  Scotland    False  1950\n",
              "3322  1952-04-05  Scotland   England  ...  Scotland    False  1952\n",
              "3615  1954-04-03  Scotland   England  ...  Scotland    False  1954\n",
              "3943  1956-04-14  Scotland   England  ...  Scotland    False  1956\n",
              "4326  1958-04-19  Scotland   England  ...  Scotland    False  1958\n",
              "4684  1960-04-09  Scotland   England  ...  Scotland    False  1960\n",
              "5095  1962-04-14  Scotland   England  ...  Scotland    False  1962\n",
              "5594  1964-04-11  Scotland   England  ...  Scotland    False  1964\n",
              "6095  1966-04-02  Scotland   England  ...  Scotland    False  1966\n",
              "6735  1968-02-24  Scotland   England  ...  Scotland    False  1968\n",
              "7431  1970-04-25  Scotland   England  ...  Scotland    False  1970\n",
              "8180  1972-05-27  Scotland   England  ...  Scotland    False  1972\n",
              "8480  1973-02-14  Scotland   England  ...  Scotland    False  1973\n",
              "8996  1974-05-18  Scotland   England  ...  Scotland    False  1974\n",
              "9722  1976-05-15  Scotland   England  ...  Scotland    False  1976\n",
              "10500 1978-05-20  Scotland   England  ...  Scotland    False  1978\n",
              "11265 1980-05-24  Scotland   England  ...  Scotland    False  1980\n",
              "12259 1982-05-29  Scotland   England  ...  Scotland    False  1982\n",
              "13055 1984-05-26  Scotland   England  ...  Scotland    False  1984\n",
              "13741 1985-05-25  Scotland   England  ...  Scotland    False  1985\n",
              "14537 1987-05-23  Scotland   England  ...  Scotland    False  1987\n",
              "15550 1989-05-27  Scotland   England  ...  Scotland    False  1989\n",
              "22389 1999-11-13  Scotland   England  ...  Scotland    False  1999\n",
              "36584 2014-11-18  Scotland   England  ...  Scotland    False  2014\n",
              "38894 2017-06-10  Scotland   England  ...  Scotland    False  2017\n",
              "\n",
              "[58 rows x 10 columns]"
            ]
          },
          "metadata": {
            "tags": []
          },
          "execution_count": 104
        }
      ]
    },
    {
      "cell_type": "code",
      "metadata": {
        "colab": {
          "base_uri": "https://localhost:8080/"
        },
        "id": "HQ3iNxeSWLv7",
        "outputId": "2e9861bc-7dcf-4ada-9cf8-731c3fae5532"
      },
      "source": [
        "df_football.columns"
      ],
      "execution_count": null,
      "outputs": [
        {
          "output_type": "execute_result",
          "data": {
            "text/plain": [
              "Index(['date', 'home_team', 'away_team', 'home_score', 'away_score',\n",
              "       'tournament', 'city', 'country', 'neutral', 'year'],\n",
              "      dtype='object')"
            ]
          },
          "metadata": {
            "tags": []
          },
          "execution_count": 26
        }
      ]
    },
    {
      "cell_type": "code",
      "metadata": {
        "colab": {
          "base_uri": "https://localhost:8080/"
        },
        "id": "s9zv1iycwct_",
        "outputId": "b120beb0-bb5e-4d7f-a5fd-a19367255c4d"
      },
      "source": [
        "data.dtypes"
      ],
      "execution_count": null,
      "outputs": [
        {
          "output_type": "execute_result",
          "data": {
            "text/plain": [
              "date          object\n",
              "home_team     object\n",
              "away_team     object\n",
              "home_score     int64\n",
              "away_score     int64\n",
              "tournament    object\n",
              "city          object\n",
              "country       object\n",
              "neutral         bool\n",
              "dtype: object"
            ]
          },
          "metadata": {
            "tags": []
          },
          "execution_count": 57
        }
      ]
    },
    {
      "cell_type": "code",
      "metadata": {
        "colab": {
          "base_uri": "https://localhost:8080/"
        },
        "id": "dlPi1SpUnWhw",
        "outputId": "4a3fd6d5-57f9-484b-ee68-b81c56694466"
      },
      "source": [
        "data.isnull().sum()"
      ],
      "execution_count": null,
      "outputs": [
        {
          "output_type": "execute_result",
          "data": {
            "text/plain": [
              "date          0\n",
              "home_team     0\n",
              "away_team     0\n",
              "home_score    0\n",
              "away_score    0\n",
              "tournament    0\n",
              "city          0\n",
              "country       0\n",
              "neutral       0\n",
              "dtype: int64"
            ]
          },
          "metadata": {
            "tags": []
          },
          "execution_count": 58
        }
      ]
    }
  ]
}